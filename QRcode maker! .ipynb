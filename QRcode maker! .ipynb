{
 "cells": [
  {
   "cell_type": "markdown",
   "id": "33b977ba",
   "metadata": {},
   "source": [
    "# Imports"
   ]
  },
  {
   "cell_type": "markdown",
   "id": "40446aff",
   "metadata": {},
   "source": [
    "### pyqrcode"
   ]
  },
  {
   "cell_type": "markdown",
   "id": "1d4e9e89",
   "metadata": {},
   "source": [
    "The pyqrcode module is a QR code generator that is simple to use and written in pure python. The module can automates most of the building process for creating QR codes.\n",
    "source: https://pypi.org/project/PyQRCode/"
   ]
  },
  {
   "cell_type": "markdown",
   "id": "e846fc01",
   "metadata": {},
   "source": [
    "### pypng"
   ]
  },
  {
   "cell_type": "markdown",
   "id": "08054836",
   "metadata": {},
   "source": [
    "Pure Python library for saving and loading PNG images.\n",
    "source: https://pypi.org/project/pypng/"
   ]
  },
  {
   "cell_type": "markdown",
   "id": "861f2d6b",
   "metadata": {},
   "source": [
    "### Tkinter "
   ]
  },
  {
   "cell_type": "markdown",
   "id": "23c5f846",
   "metadata": {},
   "source": [
    "The tkinter package (“Tk interface”) is the standard Python interface to the Tcl/Tk GUI toolkit. https://docs.python.org/3/library/tkinter.html#"
   ]
  },
  {
   "cell_type": "code",
   "execution_count": 1,
   "id": "b930c6a7",
   "metadata": {
    "scrolled": true
   },
   "outputs": [
    {
     "name": "stdout",
     "output_type": "stream",
     "text": [
      "Requirement already satisfied: pyqrcode in c:\\users\\asus\\anaconda3\\lib\\site-packages (1.2.1)\n",
      "Note: you may need to restart the kernel to use updated packages.\n"
     ]
    }
   ],
   "source": [
    "pip install pyqrcode"
   ]
  },
  {
   "cell_type": "code",
   "execution_count": 2,
   "id": "61f38204",
   "metadata": {
    "scrolled": true
   },
   "outputs": [
    {
     "name": "stdout",
     "output_type": "stream",
     "text": [
      "Requirement already satisfied: pypng in c:\\users\\asus\\anaconda3\\lib\\site-packages (0.20220715.0)\n",
      "Note: you may need to restart the kernel to use updated packages.\n"
     ]
    }
   ],
   "source": [
    "pip install pypng"
   ]
  },
  {
   "cell_type": "code",
   "execution_count": 3,
   "id": "33e8f710",
   "metadata": {},
   "outputs": [],
   "source": [
    "from pyqrcode import create\n",
    "import png\n",
    "\n",
    "import tkinter\n",
    "from tkinter import *\n",
    "from tkinter import filedialog\n",
    "from tkinter.filedialog import asksaveasfile"
   ]
  },
  {
   "cell_type": "markdown",
   "id": "c396ff25",
   "metadata": {},
   "source": [
    "# 'QRcode maker!'"
   ]
  },
  {
   "cell_type": "code",
   "execution_count": 4,
   "id": "ca1794fb",
   "metadata": {},
   "outputs": [
    {
     "data": {
      "text/plain": [
       "''"
      ]
     },
     "execution_count": 4,
     "metadata": {},
     "output_type": "execute_result"
    }
   ],
   "source": [
    "# create a window\n",
    "root = tkinter.Tk()\n",
    "\n",
    "# the window title \n",
    "root.title('QR code maker!')\n",
    "data = tkinter.Entry(root, width=25, bg='white')\n",
    "\n",
    "# background color of the root window\n",
    "root.configure(background=\"black\")\n",
    "\n",
    "# change the default icon \n",
    "root.iconbitmap('C:/Users/asus/Desktop/simple projects/QR code/icon.ico')"
   ]
  },
  {
   "cell_type": "code",
   "execution_count": 5,
   "id": "50392d1e",
   "metadata": {},
   "outputs": [],
   "source": [
    "# fonction to generate the QRcode\n",
    "def gen_qr():\n",
    "    global dta\n",
    "    dta = data.get()\n",
    "    dta = create(dta)\n",
    "    test = dta.xbm(scale=5)\n",
    "    global xbm_image\n",
    "    xbm_image = tkinter.BitmapImage(data=test, foreground=\"black\", background='white')\n",
    "    image_view.config(image=xbm_image)\n",
    "    statement.config(text=\"This is your QR code 😁\", bg=\"black\", fg=\"white\")"
   ]
  },
  {
   "cell_type": "code",
   "execution_count": 6,
   "id": "e5ffaccc",
   "metadata": {},
   "outputs": [],
   "source": [
    "# create the heading\n",
    "heading = tkinter.Label(root, text=\"Create your QR code!\", \n",
    "                        bg=\"black\", \n",
    "                        fg=\"white\",\n",
    "                        font=\"times 25\")\n",
    "\n",
    "# adding a subtitle\n",
    "subtitle = tkinter.Label(root, text=\"Enter your data \", \n",
    "                         bg=\"black\", \n",
    "                         fg=\"white\", \n",
    "                         font=\"times 15\")\n",
    "\n",
    "# create a button to make the QR code img\n",
    "M_button = tkinter.Button(root, text=\" create QR \", \n",
    "                          bg=\"orange\", \n",
    "                          fg=\"black\", \n",
    "                          width=9, \n",
    "                          font=\"times 11\", \n",
    "                          command=gen_qr)\n",
    "\n",
    "# create a lable for the QRcode img\n",
    "image_view = tkinter.Label(root, \n",
    "                           bg=\"black\")\n",
    "\n",
    "# create a lable for the statement \n",
    "statement = tkinter.Label(root, \n",
    "                          bg=\"black\")\n",
    "# create a quit button\n",
    "quit = tkinter.Button(root, \n",
    "                      text=\"Quit\", \n",
    "                      command=root.destroy)"
   ]
  },
  {
   "cell_type": "code",
   "execution_count": 7,
   "id": "fd1e7bc9",
   "metadata": {},
   "outputs": [],
   "source": [
    "# Gui grid\n",
    "\n",
    "heading.grid(row=0, column=0, columnspan=2)\n",
    "subtitle.grid(row=1, column=0)\n",
    "data.grid(row=1, column=1)\n",
    "M_button.grid(row=3, column=0, columnspan=2)\n",
    "image_view.grid(row=4, column=0, columnspan=2)\n",
    "quit.grid(row=6, column=0, columnspan=2)\n",
    "statement.grid(row=7, column=0, columnspan=2)"
   ]
  },
  {
   "cell_type": "code",
   "execution_count": 8,
   "id": "751d07d6",
   "metadata": {},
   "outputs": [],
   "source": [
    "# a main loop to run the root window \n",
    "root.mainloop()"
   ]
  }
 ],
 "metadata": {
  "kernelspec": {
   "display_name": "Python 3 (ipykernel)",
   "language": "python",
   "name": "python3"
  },
  "language_info": {
   "codemirror_mode": {
    "name": "ipython",
    "version": 3
   },
   "file_extension": ".py",
   "mimetype": "text/x-python",
   "name": "python",
   "nbconvert_exporter": "python",
   "pygments_lexer": "ipython3",
   "version": "3.9.7"
  }
 },
 "nbformat": 4,
 "nbformat_minor": 5
}
