{
 "cells": [
  {
   "cell_type": "markdown",
   "id": "87e5da4a",
   "metadata": {},
   "source": [
    "# Imports"
   ]
  },
  {
   "cell_type": "markdown",
   "id": "12122278",
   "metadata": {},
   "source": [
    "### pyqrcode"
   ]
  },
  {
   "cell_type": "markdown",
   "id": "818520cd",
   "metadata": {},
   "source": [
    "The pyqrcode module is a QR code generator that is simple to use and written in pure python. The module can automates most of the building process for creating QR codes.\n",
    "source: https://pypi.org/project/PyQRCode/"
   ]
  },
  {
   "cell_type": "markdown",
   "id": "b2ebe4f3",
   "metadata": {},
   "source": [
    "### pypng"
   ]
  },
  {
   "cell_type": "markdown",
   "id": "2bae2bfc",
   "metadata": {},
   "source": [
    "Pure Python library for saving and loading PNG images.\n",
    "source: https://pypi.org/project/pypng/"
   ]
  },
  {
   "cell_type": "markdown",
   "id": "666b14f4",
   "metadata": {},
   "source": [
    "### Tkinter "
   ]
  },
  {
   "cell_type": "markdown",
   "id": "ec7a60f7",
   "metadata": {},
   "source": [
    "The tkinter package (“Tk interface”) is the standard Python interface to the Tcl/Tk GUI toolkit. https://docs.python.org/3/library/tkinter.html#"
   ]
  },
  {
   "cell_type": "code",
   "execution_count": 1,
   "id": "ce2cbf8b",
   "metadata": {
    "scrolled": true
   },
   "outputs": [
    {
     "name": "stdout",
     "output_type": "stream",
     "text": [
      "Requirement already satisfied: pyqrcode in c:\\users\\asus\\anaconda3\\lib\\site-packages (1.2.1)\n",
      "Note: you may need to restart the kernel to use updated packages.\n"
     ]
    }
   ],
   "source": [
    "pip install pyqrcode"
   ]
  },
  {
   "cell_type": "code",
   "execution_count": 2,
   "id": "dd8039a4",
   "metadata": {
    "scrolled": false
   },
   "outputs": [
    {
     "name": "stdout",
     "output_type": "stream",
     "text": [
      "Requirement already satisfied: pypng in c:\\users\\asus\\anaconda3\\lib\\site-packages (0.20220715.0)\n",
      "Note: you may need to restart the kernel to use updated packages.\n"
     ]
    }
   ],
   "source": [
    "pip install pypng"
   ]
  },
  {
   "cell_type": "code",
   "execution_count": 14,
   "id": "ba067c00",
   "metadata": {},
   "outputs": [],
   "source": [
    "from pyqrcode import create\n",
    "import png\n",
    "\n",
    "import tkinter\n",
    "from tkinter import *\n",
    "from tkinter import filedialog\n",
    "from tkinter.filedialog import asksaveasfile"
   ]
  },
  {
   "cell_type": "markdown",
   "id": "ea4432d6",
   "metadata": {},
   "source": [
    "# 'QRcode maker!'"
   ]
  },
  {
   "cell_type": "code",
   "execution_count": 15,
   "id": "02b5d97a",
   "metadata": {},
   "outputs": [
    {
     "data": {
      "text/plain": [
       "''"
      ]
     },
     "execution_count": 15,
     "metadata": {},
     "output_type": "execute_result"
    }
   ],
   "source": [
    "# Create a window\n",
    "Root = tkinter.Tk()\n",
    "\n",
    "# The window title \n",
    "Root.title('QR code maker!')\n",
    "data = tkinter.Entry(Root, width=25, bg='white')\n",
    "\n",
    "# Changing the background color of the root window\n",
    "Root.configure(background=\"black\")\n",
    "\n",
    "# Changing the default icon \n",
    "Root.iconbitmap('C:/Users/asus/Desktop/simple projects/QR code/icon.ico')"
   ]
  },
  {
   "cell_type": "code",
   "execution_count": 16,
   "id": "1050bcaf",
   "metadata": {},
   "outputs": [],
   "source": [
    "# A fonction to generate the QRcode\n",
    "def gen_qr():\n",
    "    global dta\n",
    "    dta = data.get()\n",
    "    dta = create(dta)\n",
    "    test = dta.xbm(scale=5)\n",
    "    global xbm_image\n",
    "    xbm_image = tkinter.BitmapImage(data=test, foreground=\"black\", background='white')\n",
    "    image_view.config(image=xbm_image)\n",
    "    statement.config(text=\"This is your QR code 😁\", bg=\"black\", fg=\"white\")"
   ]
  },
  {
   "cell_type": "code",
   "execution_count": 17,
   "id": "9159af86",
   "metadata": {},
   "outputs": [],
   "source": [
    "# Create the heading\n",
    "Heading = tkinter.Label(Root, text=\"Create your QR code!!\", \n",
    "                        bg=\"black\", \n",
    "                        fg=\"white\",\n",
    "                        font=\"times 25\")\n",
    "\n",
    "# Adding a subtitle\n",
    "Subtitle = tkinter.Label(Root, text=\"Type your text here\", \n",
    "                         bg=\"black\", \n",
    "                         fg=\"white\", \n",
    "                         font=\"times 10\")\n",
    "\n",
    "emoji = tkinter.Label(Root, text=\"👇\", \n",
    "                         bg=\"black\",\n",
    "                         fg=\"white\", \n",
    "                         font=\"times 10\")\n",
    " \n",
    "# Create a button to make the QR code img\n",
    "M_button = tkinter.Button(Root, text=\" create QR \", \n",
    "                          bg=\"orange\", \n",
    "                          fg=\"black\", \n",
    "                          width=9, \n",
    "                          font=\"times 11\", \n",
    "                          command=gen_qr)\n",
    "\n",
    "# Create a lable for the QRcode img\n",
    "image_view = tkinter.Label(Root, \n",
    "                           bg=\"black\")\n",
    "\n",
    "# Create a lable for the statement \n",
    "statement = tkinter.Label(Root, \n",
    "                          bg=\"black\")\n",
    "# create a quit button\n",
    "Quit = tkinter.Button(Root, \n",
    "                      text=\"Quit\", \n",
    "                      command=Root.destroy)"
   ]
  },
  {
   "cell_type": "code",
   "execution_count": 18,
   "id": "6ef8424b",
   "metadata": {},
   "outputs": [],
   "source": [
    "# Gui grid\n",
    "\n",
    "Heading.grid(row=0, column=0, columnspan=2)\n",
    "\n",
    "Subtitle.grid(row=1, column=0, columnspan=2)\n",
    "\n",
    "emoji.grid(row=2, column=0, columnspan=2) \n",
    "\n",
    "data.grid(row=3, column=0, columnspan=2)\n",
    "\n",
    "M_button.grid(row=4, column=0, columnspan=2)\n",
    "\n",
    "image_view.grid(row=5, column=0, columnspan=2)\n",
    "\n",
    "statement.grid(row=6, column=0, columnspan=2)\n",
    "\n",
    "Quit.grid(row=7, column=0, columnspan=2)"
   ]
  },
  {
   "cell_type": "code",
   "execution_count": 19,
   "id": "f704c11d",
   "metadata": {},
   "outputs": [],
   "source": [
    "# a main loop to run the root window \n",
    "Root.mainloop()"
   ]
  }
 ],
 "metadata": {
  "kernelspec": {
   "display_name": "Python 3 (ipykernel)",
   "language": "python",
   "name": "python3"
  },
  "language_info": {
   "codemirror_mode": {
    "name": "ipython",
    "version": 3
   },
   "file_extension": ".py",
   "mimetype": "text/x-python",
   "name": "python",
   "nbconvert_exporter": "python",
   "pygments_lexer": "ipython3",
   "version": "3.9.7"
  }
 },
 "nbformat": 4,
 "nbformat_minor": 5
}
